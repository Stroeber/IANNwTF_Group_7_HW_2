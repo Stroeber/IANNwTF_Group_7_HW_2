{
  "nbformat": 4,
  "nbformat_minor": 0,
  "metadata": {
    "colab": {
      "name": "IANNwTF-week2.ipynb",
      "provenance": [],
      "collapsed_sections": []
    },
    "kernelspec": {
      "name": "python3",
      "display_name": "Python 3"
    }
  },
  "cells": [
    {
      "cell_type": "markdown",
      "metadata": {
        "id": "eRQlUzfZz8SG"
      },
      "source": [
        "# IANNwTF - Homework Week 2\n"
      ]
    },
    {
      "cell_type": "code",
      "metadata": {
        "id": "vBbeuVt9z0hN"
      },
      "source": [
        "# import libraries\n",
        "%matplotlib inline\n",
        "import numpy as np\n",
        "import pandas as pd\n",
        "import math\n",
        "import matplotlib.pyplot as plt\n"
      ],
      "execution_count": null,
      "outputs": []
    },
    {
      "cell_type": "markdown",
      "metadata": {
        "id": "w8iM7K670mTo"
      },
      "source": [
        "## 1 Preparation\n",
        "For this homework you will use sigmoid as an activation function. Think about the\n",
        "following questions (you do not have to hand in the answers, they are just for your own\n",
        "recap)\n",
        "\n",
        "* What is the purpose of an activation function in NN in general?\n",
        "* What’s the advantage of e.g. sigmoid over the step function (threshold function)?\n",
        "* How does sigmoid look like (the formula as well as the graph)?\n",
        "* What is the derivative of sigmoid?\n",
        "\n",
        "Implement a function sigmoid(x) and a function sigmoidprime(x)"
      ]
    },
    {
      "cell_type": "markdown",
      "metadata": {
        "id": "KelZ460010VK"
      },
      "source": [
        "### Sigmoid function and its derivative\n",
        "\n",
        "Mathematical definiton:\n",
        "\n",
        "$\\sigma(x) = \\frac{1}{1+e^{-x}}$\n",
        "\n",
        "Derivative (sigmoidprime):\n",
        "\n",
        "$\\sigma'(x)= \\sigma(x)(1-\\sigma(x))$"
      ]
    },
    {
      "cell_type": "code",
      "metadata": {
        "id": "_dNwiMFD08j2"
      },
      "source": [
        "def sigmoid(x):\n",
        "  return (1 / (1+np.exp(-x)))\n",
        "\n",
        "def sigmoidprime(x):\n",
        "  return sigmoid(x)*(1-sigmoid(x))\n"
      ],
      "execution_count": null,
      "outputs": []
    },
    {
      "cell_type": "markdown",
      "metadata": {
        "id": "2lZtAToi3Ags"
      },
      "source": [
        "## 2 Data Set\n",
        "\n",
        "The training data set will consist of possible inputs and their corresponding labels.\n",
        "\n",
        "We are training the network on logical gates (and, or, not and, not or, xor = exclusive\n",
        "or). \n",
        "We will create the inputs and labels ourselves.\n",
        "\n",
        "What are possible inputs to the logical gates?\n",
        "\n",
        "For each of the logical gates you will need an array of labels (= the true solution that\n",
        "the network is supposed to output), one corresponding to each input pair."
      ]
    },
    {
      "cell_type": "code",
      "metadata": {
        "id": "R-btQvXB4KO_",
        "colab": {
          "base_uri": "https://localhost:8080/",
          "height": 166
        },
        "outputId": "98ab2749-686f-4fd3-9abd-a00934ce17eb"
      },
      "source": [
        "# Define the input variables (4 combinations of 2 booleans)\n",
        "input = np.array(\n",
        "    [\n",
        "      [0, 0],\n",
        "      [0, 1],\n",
        "      [1, 0],\n",
        "      [1, 1],\n",
        "    ]\n",
        ")\n",
        "\n",
        "# The logical gates take as input two binary digits (either 1 or 0), with all possible combinations there\n",
        "# should be 4 input pairs. Put them in a 2D numpy array. (The shape of the array should be (4,2))\n",
        "assert input.shape == (4, 2)\n",
        "\n",
        "# You will need 5 arrays each containing 4 binary digits (0 or 1).\n",
        "# \n",
        "labels_and    = np.array([0, 0, 0, 1])\n",
        "labels_or     = np.array([0, 1, 1, 1])\n",
        "labels_nand   = np.array([1, 1, 1, 0])\n",
        "labels_nor    = np.array([1, 0, 0, 0])\n",
        "labels_xor    = np.array([0, 1, 1, 0])\n",
        "\n",
        "# Uncomment the following if you prefer having the values calculated :-)\n",
        "#labels_and_c  = np.array([x[0] and x[1] for x in input])\n",
        "#labels_or_c   = np.array([x[0] or x[1] for x in input])\n",
        "#labels_nand_c = np.array([int(not (x[0] and x[1])) for x in input])\n",
        "#labels_nor_c  = np.array([int(not (x[0] or x[1])) for x in input])\n",
        "#labels_xor_c  = np.array([x[0] ^ x[1] for x in input])\n",
        "\n",
        "\n",
        "# Optional part: Pretty printing the inputs and targets as Pandas data frame\n",
        "df = pd.DataFrame(\n",
        "    input, columns=[\"x1\", \"x2\"]\n",
        ")\n",
        "df[\"AND\"] = labels_and\n",
        "df[\"OR\"] = labels_or\n",
        "df[\"NAND\"] =labels_nand\n",
        "df[\"NOR\"] = labels_nor\n",
        "df[\"XOR\"] = labels_xor\n",
        "\n",
        "df"
      ],
      "execution_count": null,
      "outputs": [
        {
          "output_type": "execute_result",
          "data": {
            "text/html": [
              "<div>\n",
              "<style scoped>\n",
              "    .dataframe tbody tr th:only-of-type {\n",
              "        vertical-align: middle;\n",
              "    }\n",
              "\n",
              "    .dataframe tbody tr th {\n",
              "        vertical-align: top;\n",
              "    }\n",
              "\n",
              "    .dataframe thead th {\n",
              "        text-align: right;\n",
              "    }\n",
              "</style>\n",
              "<table border=\"1\" class=\"dataframe\">\n",
              "  <thead>\n",
              "    <tr style=\"text-align: right;\">\n",
              "      <th></th>\n",
              "      <th>x1</th>\n",
              "      <th>x2</th>\n",
              "      <th>AND</th>\n",
              "      <th>OR</th>\n",
              "      <th>NAND</th>\n",
              "      <th>NOR</th>\n",
              "      <th>XOR</th>\n",
              "    </tr>\n",
              "  </thead>\n",
              "  <tbody>\n",
              "    <tr>\n",
              "      <th>0</th>\n",
              "      <td>0</td>\n",
              "      <td>0</td>\n",
              "      <td>0</td>\n",
              "      <td>0</td>\n",
              "      <td>1</td>\n",
              "      <td>1</td>\n",
              "      <td>0</td>\n",
              "    </tr>\n",
              "    <tr>\n",
              "      <th>1</th>\n",
              "      <td>0</td>\n",
              "      <td>1</td>\n",
              "      <td>0</td>\n",
              "      <td>1</td>\n",
              "      <td>1</td>\n",
              "      <td>0</td>\n",
              "      <td>1</td>\n",
              "    </tr>\n",
              "    <tr>\n",
              "      <th>2</th>\n",
              "      <td>1</td>\n",
              "      <td>0</td>\n",
              "      <td>0</td>\n",
              "      <td>1</td>\n",
              "      <td>1</td>\n",
              "      <td>0</td>\n",
              "      <td>1</td>\n",
              "    </tr>\n",
              "    <tr>\n",
              "      <th>3</th>\n",
              "      <td>1</td>\n",
              "      <td>1</td>\n",
              "      <td>1</td>\n",
              "      <td>1</td>\n",
              "      <td>0</td>\n",
              "      <td>0</td>\n",
              "      <td>0</td>\n",
              "    </tr>\n",
              "  </tbody>\n",
              "</table>\n",
              "</div>"
            ],
            "text/plain": [
              "   x1  x2  AND  OR  NAND  NOR  XOR\n",
              "0   0   0    0   0     1    1    0\n",
              "1   0   1    0   1     1    0    1\n",
              "2   1   0    0   1     1    0    1\n",
              "3   1   1    1   1     0    0    0"
            ]
          },
          "metadata": {
            "tags": []
          },
          "execution_count": 3
        }
      ]
    },
    {
      "cell_type": "markdown",
      "metadata": {
        "id": "WNuCyloF8yW3"
      },
      "source": [
        "### 3 Perceptron\n",
        "Our multilayer-Perceptron will consist of single Perceptrons. So we will need a class\n",
        "**Perceptron**. You can use the one that we have implemented together in the Flipped\n",
        "Classroom Session (should also be uploaded) or create your own.\n",
        "\n",
        "If you want to implement it yourself, think about what a Perceptron consists of.\n",
        "When you create a Perceptron, it should receive an int input units with how many\n",
        "weights are coming in to your Perceptron. It should also randomly assign weights and\n",
        "the bias.\n",
        "Also assign the learning rate alpha = 1. \n",
        "\n",
        "The Perceptron should have a function **forward_step(self, inputs)** that calculates\n",
        "the activation of the perceptron. Use sigmoid as activation function.\n",
        "\n",
        "Then you’ll need a function **update(self, delta)** which updates the parameters. To\n",
        "do so, compute the gradients for weights and bias from the error term δ. (It was handed\n",
        "over when the function was called in the backprop step function of the class MLP().)\n",
        "\n",
        "Compute the gradients using:\n",
        "\n",
        "> $ \\frac{\\partial L}{\\partial w_{ij}^{(l)}} = \\delta^{(l)}_i a_j^{(l-1)}$\n",
        "\n",
        "And then update the parameters using:\n",
        "> $ \\theta_{new} = \\theta_{old} - \\alpha \\nabla L_\\theta $"
      ]
    },
    {
      "cell_type": "code",
      "metadata": {
        "id": "xWaT1nLm9Blj"
      },
      "source": [
        "class Perceptron(object):\n",
        "\n",
        "  def __init__(self, input_units, alpha = 1):\n",
        "    \"\"\"Initialise the weights, depending on the number of input units, a bias and learning rate alpha.\"\"\"\n",
        "    self.alpha = alpha\n",
        "\n",
        "    self.weights = np.random.randn(input_units + 1) # add one unit for the bias\n",
        "  \n",
        "  def forward_step(self, inputs):\n",
        "    \"\"\"Compute the activation of the perceptron using the sigmoid activation function.\"\"\"\n",
        "\n",
        "    # prepend a 1 to the input because we have the bias incorporated in the weight matrix\n",
        "    self.input = np.insert(inputs, 0, 1)\n",
        "\n",
        "    self.drive = np.dot(self.weights, self.input)\n",
        "    self.output = sigmoid(self.drive)\n",
        "\n",
        "    return self.output\n",
        "\n",
        "  def update(self, delta):\n",
        "    \"\"\"Update the weights and the bias of the perceptron by using the given delta.\"\"\"\n",
        "    gradients = delta * self.input\n",
        "    self.weights -= self.alpha * gradients\n",
        "\n",
        "\n"
      ],
      "execution_count": null,
      "outputs": []
    },
    {
      "cell_type": "markdown",
      "metadata": {
        "id": "LVFfhcXy3LIf"
      },
      "source": [
        "### 4 Multi-Layer Perceptron\n",
        "\n",
        "Further,  we  will  need  a  class MLP() that  can  perform  a  forward  and  backprop-step. Initialize the MLP with **1 hidden layer** that has **4 Perceptrons**.  Initialize **1 output neuron**. \n",
        "\n",
        "* In the forward_step process the inputs through the network.\n",
        "* In the backprop_step update the parameters of the network.\n",
        "\n"
      ]
    },
    {
      "cell_type": "code",
      "metadata": {
        "id": "naqqimPpZAiG",
        "colab": {
          "base_uri": "https://localhost:8080/",
          "height": 1000
        },
        "outputId": "a7bcd4e3-79c3-4b93-95c1-3ebd42dd2fba"
      },
      "source": [
        "class MLP(object):\n",
        "  \n",
        "  def __init__(self):\n",
        "    \"\"\"Initialise the layers of perceptrons\"\"\"\n",
        "    # 4 Perceptrons in hidden layer and 1 in output layer\n",
        "    self.hidden = [Perceptron(2) for i in range(4)]\n",
        "    self.output = Perceptron(4)\n",
        "  \n",
        "  def forward_step(self, inputs):\n",
        "    # First compute the activation of the perceptrons in the hidden layer\n",
        "    self.hidden_output = np.array([p.forward_step(inputs) for p in self.hidden])\n",
        "\n",
        "    # Then return the output of the perceptron in the ouput layer\n",
        "    return self.output.forward_step(self.hidden_output)\n",
        "  \n",
        "  def backprop_step(self, inputs, target):\n",
        "    \"\"\"Backpropagate through the network and adjust the weights and biases\"\"\"\n",
        "    \n",
        "    # Compute the delta of the neuron in the ouput layer\n",
        "    delta_output = (self.output.output-target)*sigmoidprime(self.output.drive)\n",
        "\n",
        "    # Iterate through the neurons of the hidden layer and update the weights\n",
        "    for i, p in enumerate(self.hidden):\n",
        "      delta = delta_output * self.output.weights[i] * sigmoidprime(p.drive)\n",
        "      p.update(delta)\n",
        "\n",
        "    # Finally update the output neuron's weights as well\n",
        "    self.output.update(delta_output)\n",
        "\n",
        "\n",
        "\n",
        "def train_and_evaluate(labels, title):\n",
        "  \"\"\"Trains the Network on the target and plots the loss and accuracy for every epoch.\n",
        "     This function is used to make the visualisation easier.\n",
        "     \n",
        "     labels - The list of target labels (e.g. one of labels_and, labels_or, etc.)\n",
        "     title  - The title of the plot (e.g. \"OR\", \"AND\", etc.)\n",
        "\n",
        "  \"\"\"\n",
        "  mlp = MLP()\n",
        "\n",
        "  labels = labels.reshape((4, 1))\n",
        "  epochs = 1000\n",
        "\n",
        "  all_losses = []\n",
        "  all_accs = []\n",
        "\n",
        "  for epoch in range(epochs):\n",
        "    losses = 0\n",
        "    correct = 0 # number of correct predictions in this epoch\n",
        "\n",
        "    # Iterate through the training samples\n",
        "    for x1, x2, target in np.concatenate((input, labels), axis=1):\n",
        "      pred = mlp.forward_step([x1, x2])\n",
        "      mlp.backprop_step([x1, x2], target)\n",
        "\n",
        "      # Loss function: Mean Squared Error (MSE)\n",
        "      loss = (pred-target)**2\n",
        "      losses += loss\n",
        "\n",
        "      if round(pred) == target:\n",
        "        correct += 1\n",
        "\n",
        "    # Accuracy = number of correct predictions / total number of samples\n",
        "    accuracy = correct / len(input)\n",
        "\n",
        "    # Average the loss as well\n",
        "    loss = losses / len(input)\n",
        "\n",
        "    # Store losses and accuracies for the plot\n",
        "    all_losses.append(loss)\n",
        "    all_accs.append(accuracy)\n",
        "\n",
        "  # Create and show the plot\n",
        "  x = range(1000)\n",
        "  plt.plot(x, all_accs, label=\"Accuracy\")\n",
        "  plt.plot(x, all_losses, label=\"Loss\")\n",
        "  plt.title(title)\n",
        "  plt.legend()\n",
        "  plt.show()\n",
        "\n",
        "# Train, evaluate and plot for every logical gate\n",
        "train_and_evaluate(labels_and, \"AND\")\n",
        "train_and_evaluate(labels_or, \"OR\")\n",
        "train_and_evaluate(labels_nand, \"NAND\")\n",
        "train_and_evaluate(labels_nor, \"NOR\")\n",
        "train_and_evaluate(labels_xor, \"XOR\")\n"
      ],
      "execution_count": null,
      "outputs": [
        {
          "output_type": "display_data",
          "data": {
            "image/png": "[encoded data removed]",
            "text/plain": [
              "<Figure size 432x288 with 1 Axes>"
            ]
          },
          "metadata": {
            "tags": [],
            "needs_background": "light"
          }
        },
        {
          "output_type": "display_data",
          "data": {
            "image/png": "[encoded data removed]",
            "text/plain": [
              "<Figure size 432x288 with 1 Axes>"
            ]
          },
          "metadata": {
            "tags": [],
            "needs_background": "light"
          }
        },
        {
          "output_type": "display_data",
          "data": {
            "image/png": "[encoded data removed]",
            "text/plain": [
              "<Figure size 432x288 with 1 Axes>"
            ]
          },
          "metadata": {
            "tags": [],
            "needs_background": "light"
          }
        },
        {
          "output_type": "display_data",
          "data": {
            "image/png": "[encoded data removed]",
            "text/plain": [
              "<Figure size 432x288 with 1 Axes>"
            ]
          },
          "metadata": {
            "tags": [],
            "needs_background": "light"
          }
        },
        {
          "output_type": "display_data",
          "data": {
            "image/png": "[encoded data removed]",
            "text/plain": [
              "<Figure size 432x288 with 1 Axes>"
            ]
          },
          "metadata": {
            "tags": [],
            "needs_background": "light"
          }
        }
      ]
    }
  ]
}